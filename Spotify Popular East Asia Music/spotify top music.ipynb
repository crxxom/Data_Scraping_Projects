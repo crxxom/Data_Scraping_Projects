{
 "cells": [
  {
   "cell_type": "code",
   "execution_count": 210,
   "id": "66538f17",
   "metadata": {},
   "outputs": [],
   "source": [
    "import base64\n",
    "from requests import post, get\n",
    "import json\n",
    "\n",
    "client_id = \"eb74c5ecb1ef4bafb1d51864054479a7\"\n",
    "client_secret = \"e57224d2ae534f598390c68ce5efdab9\"\n",
    "\n",
    "# Get the token, a token is needed each time you want to get a request, each token has an expiry time of 3600s\n",
    "def get_token():\n",
    "    auth_string = client_id + ':' + client_secret\n",
    "    auth_bytes = auth_string.encode(\"utf-8\")\n",
    "    auth_base64 = str(base64.b64encode(auth_bytes), \"utf-8\")\n",
    "    \n",
    "    url = \"https://accounts.spotify.com/api/token\"\n",
    "    headers = {\n",
    "        \"Authorization\": \"Basic \" + auth_base64,\n",
    "        \"Content-Type\": \"application/x-www-form-urlencoded\"\n",
    "    }\n",
    "    data = {\"grant_type\": \"client_credentials\"}\n",
    "    result = post(url, headers=headers, data=data)\n",
    "    json_result = json.loads(result.content)\n",
    "    token = json_result[\"access_token\"]\n",
    "    return token\n",
    "\n",
    "def get_auth_header(token):\n",
    "    return {\"Authorization\": \"Bearer \" + token}\n",
    "\n",
    "# Function to search for top artists, parameters include q: query, limit: how many results you want to return\n",
    "def search_for_artists(token, q, limit, market='US', initial_offset=0):\n",
    "    url = \"https://api.spotify.com/v1/search\"\n",
    "    headers = get_auth_header(token)\n",
    "    artists = []\n",
    "    for offset in range(initial_offset, initial_offset + limit, 50):\n",
    "        params = {\n",
    "            'q':q,\n",
    "            'type': 'artist',\n",
    "            'offset': offset,\n",
    "            'market': market,\n",
    "            'limit': 50,\n",
    "        }\n",
    "        result = get(url, headers=headers, params=params)\n",
    "        json_result = json.loads(result.content)\n",
    "        artists += json_result['artists']['items']\n",
    "    \n",
    "    return artists\n",
    "\n",
    "# Function to get top 1 track by a particular artist give the artist id\n",
    "def get_top_track_by_artist(token,artist_id, market='US'):\n",
    "    url = f\"https://api.spotify.com/v1/artists/{artist_id}/top-tracks?country={market}\"\n",
    "    headers = get_auth_header(token)\n",
    "    result = get(url, headers=headers)\n",
    "    try:\n",
    "        json_result = json.loads(result.content)['tracks'][0]\n",
    "    except:\n",
    "        json_result = {}\n",
    "        \n",
    "    return json_result\n",
    "\n",
    "# Function to get top tracks based on popularity, parameters include q: query, limit: how many results you want to return\n",
    "def search_for_tracks(token, q, limit, market='US', initial_offset=0):\n",
    "    url = \"https://api.spotify.com/v1/search\"\n",
    "    headers = get_auth_header(token)\n",
    "    tracks = []\n",
    "    for offset in range(initial_offset, initial_offset + limit, 50):\n",
    "        params = {\n",
    "            'q':q,\n",
    "            'type': 'track',\n",
    "            'offset': offset,\n",
    "            'market': market,\n",
    "            'limit': 50,\n",
    "        }\n",
    "        result = get(url, headers=headers, params=params)\n",
    "        json_result = json.loads(result.content)\n",
    "        tracks += json_result['tracks']['items']\n",
    "    \n",
    "    return tracks\n"
   ]
  },
  {
   "cell_type": "code",
   "execution_count": 213,
   "id": "6a868036-d1f8-41f1-a039-73cb23468b2c",
   "metadata": {},
   "outputs": [],
   "source": [
    "import pandas as pd\n",
    "\n",
    "# Create a dataframe for tracks\n",
    "def create_track_df(json_response):\n",
    "    all_tracks = []\n",
    "\n",
    "    for i in range(0,len(json_response)):\n",
    "        track = {\n",
    "            'song_name': json_response[i]['name'],\n",
    "            'album_name': json_response[i]['album']['name'],\n",
    "            'album_link': json_response[i]['album']['external_urls']['spotify'],\n",
    "            'artist_name': json_response[i]['album']['artists'][0]['name'],\n",
    "            'popularity': json_response[i]['popularity'],\n",
    "            'release_date': json_response[i]['album']['release_date'],\n",
    "            'song_link': json_response[i]['external_urls']['spotify'],\n",
    "            'duration_ms': json_response[i]['duration_ms'],\n",
    "            'explicit': json_response[i]['explicit'],\n",
    "        }\n",
    "\n",
    "        all_tracks.append(track)\n",
    "        \n",
    "    return pd.DataFrame(all_tracks, index=list(range(1,len(json_response)+1)))\n",
    "\n",
    "# Create a dataframe for artists, include their no.1 hit\n",
    "def create_artists_df(json_response):\n",
    "    all_artists = []\n",
    "    token = get_token()\n",
    "    for i in range(len(json_response)):\n",
    "        top_track = get_top_track_by_artist(token,json_response[i]['id'])\n",
    "        artist = {\n",
    "            'artist_name': json_response[i]['name'],\n",
    "            'popularity': json_response[i]['popularity'],\n",
    "            'followers': json_response[i]['followers']['total'],\n",
    "            'artist_link': json_response[i]['external_urls']['spotify'],\n",
    "            'genres': json_response[i]['genres'],\n",
    "            'top_track': top_track.get('name',None),\n",
    "            'top_track_album': top_track.get('album',{}).get('name',None),\n",
    "            'top_track_popularity': top_track.get('popularity',None),\n",
    "            'top_track_release_date': top_track.get('album',{}).get('release_date',None),\n",
    "            'top_track_duration_ms': top_track.get('duration_ms',None),\n",
    "            'top_track_explicit': top_track.get('explicit',None),\n",
    "            'top_track_album_link': top_track.get('album',{}).get('external_urls',{}).get('spotify',None),\n",
    "            'top_track_link': top_track.get('external_urls',{}).get('spotify',None),\n",
    "        }\n",
    "        all_artists.append(artist)\n",
    "    \n",
    "    return pd.DataFrame(all_artists, index=list(range(1, len(json_response)+1)))"
   ]
  },
  {
   "cell_type": "markdown",
   "id": "60117b6b-74ab-48b6-9639-0a2a96be59c3",
   "metadata": {
    "tags": []
   },
   "source": [
    "### Top 100 artists from each genres"
   ]
  },
  {
   "cell_type": "code",
   "execution_count": null,
   "id": "84347d0c-68a0-4a08-8517-d216c7c4cfd0",
   "metadata": {},
   "outputs": [],
   "source": [
    "Chinese_top_artists = search_for_artists(token, 'genre:chinese', 100, market='HK')\n",
    "Japanese_top_artists = search_for_artists(token, 'genre:japanese', 100, market='JP')\n",
    "Korean_top_artists = search_for_artists(token, 'genre:korean', 100, market='KR')\n",
    "Kpop_top_artists = search_for_artists(token, 'genre:k-pop', 100, market='KR')"
   ]
  },
  {
   "cell_type": "code",
   "execution_count": 193,
   "id": "a455e669-629e-4ed4-97a4-213d58c84fcb",
   "metadata": {},
   "outputs": [],
   "source": [
    "Jpop_top_artists = search_for_artists(token, 'genre:j-pop', 100, market='JP')\n",
    "Jidol_top_artists = search_for_artists(token, 'genre:j-idol', 100, market='JP')\n",
    "Jdance_top_artists = search_for_artists(token, 'genre:j-dance', 100, market='JP')"
   ]
  },
  {
   "cell_type": "code",
   "execution_count": 184,
   "id": "0ca10e6d-a226-4e62-91cd-c9be1687b209",
   "metadata": {},
   "outputs": [],
   "source": [
    "chinese_top100_artist = create_artists_df(Chinese_top_artists)\n",
    "japanese_top100_artist = create_artists_df(Japanese_top_artists)\n",
    "korean_top100_artist = create_artists_df(Korean_top_artists)\n",
    "kpop_top100_artist = create_artists_df(Kpop_top_artists)"
   ]
  },
  {
   "cell_type": "code",
   "execution_count": null,
   "id": "29511c04-8dc9-4cf2-af13-97be8df43c6d",
   "metadata": {},
   "outputs": [],
   "source": [
    "Jpop_top100_artist = create_artists_df(Jpop_top_artists)\n",
    "Jdance_top100_artist = create_artists_df(Jdance_top_artists)"
   ]
  },
  {
   "cell_type": "code",
   "execution_count": 214,
   "id": "9df76e72-f90e-4f47-bc82-b85bd1bac3f5",
   "metadata": {},
   "outputs": [],
   "source": [
    "Jidol_top100_artist = create_artists_df(Jidol_top_artists)"
   ]
  },
  {
   "cell_type": "code",
   "execution_count": 202,
   "id": "697bb5b2-2d1d-45dc-83a7-308cf1d75fa5",
   "metadata": {},
   "outputs": [],
   "source": [
    "chinese_top100_artist.to_csv(\"chinese_top100_artist.csv\")\n",
    "japanese_top100_artist.to_csv(\"japanese_top100_artist.csv\")\n",
    "korean_top100_artist.to_csv(\"korean_top100_artist.csv\")\n",
    "kpop_top100_artist.to_csv(\"kpop_top100_artist.csv\")\n",
    "Jpop_top100_artist.to_csv(\"jpop_top100_artist.csv\")\n",
    "Jdance_top100_artist.to_csv(\"jdance_top100_artist.csv\")"
   ]
  },
  {
   "cell_type": "code",
   "execution_count": 215,
   "id": "ede56387-461c-4681-afa3-545865538b66",
   "metadata": {},
   "outputs": [],
   "source": [
    "Jidol_top100_artist.to_csv(\"jidol_top100_artist.csv\")"
   ]
  },
  {
   "cell_type": "code",
   "execution_count": 232,
   "id": "963e327d-48f9-424c-8b11-509011fcc5a5",
   "metadata": {},
   "outputs": [],
   "source": [
    "chinese_top100_artist['query_genre'] = 'chinese'\n",
    "japanese_top100_artist['query_genre'] = 'japanese'\n",
    "korean_top100_artist['query_genre'] = 'korean'\n",
    "kpop_top100_artist['query_genre'] = 'j-pop'\n",
    "Jpop_top100_artist['query_genre'] = 'j-pop'\n",
    "Jdance_top100_artist['query_genre'] = 'j-dance'\n",
    "Jidol_top100_artist['query_genre'] = 'j-idol'"
   ]
  },
  {
   "cell_type": "code",
   "execution_count": 233,
   "id": "310aab24-f033-4354-8c20-8a2cc5bf9f2b",
   "metadata": {},
   "outputs": [],
   "source": [
    "east_asia_topartists = [chinese_top100_artist,japanese_top100_artist,korean_top100_artist,kpop_top100_artist,Jpop_top100_artist,Jdance_top100_artist,Jidol_top100_artist]\n",
    "east_asia_topartistsdf = pd.concat(east_asia_topartists).sort_values(by='followers', ascending=False).reset_index().drop('index',axis=1)\n",
    "east_asia_topartistsdf.to_csv('east_asia_top_artists.csv')"
   ]
  },
  {
   "cell_type": "markdown",
   "id": "3cb90d23-3c77-4171-a78f-4e71a2e94731",
   "metadata": {
    "tags": []
   },
   "source": [
    "### Top 1000 tracks from each genres"
   ]
  },
  {
   "cell_type": "code",
   "execution_count": 186,
   "id": "387ec2e5-4dcb-4df2-9693-51474919e417",
   "metadata": {},
   "outputs": [],
   "source": [
    "token = get_token()\n",
    "kpop_top_tracks = search_for_tracks(token, 'genre:k-pop', 1000, market='KR')\n",
    "chinese_top_tracks = search_for_tracks(token, 'genre:chinese', 1000, market='HK')\n",
    "korean_top_tracks = search_for_tracks(token, 'genre:korean', 1000, market='KR')\n",
    "japanese_top_tracks = search_for_tracks(token, 'genre:japanese', 1000, market='JP')\n",
    "jidol_top_tracks = search_for_tracks(token, 'genre: j-idol', 1000, market='JP')\n",
    "jpop_top_tracks = search_for_tracks(token, 'genre: j-pop', 1000, market='JP')\n",
    "jdance_top_tracks = search_for_tracks(token, 'genre: j-dance', 1000, market='JP')"
   ]
  },
  {
   "cell_type": "code",
   "execution_count": 188,
   "id": "981a4b41-e29e-4145-9149-dbf8a1b86ab9",
   "metadata": {},
   "outputs": [],
   "source": [
    "kpop_top1000 = create_track_df(kpop_top_tracks)\n",
    "chinese_top1000 = create_track_df(chinese_top_tracks)\n",
    "korean_top1000 = create_track_df(korean_top_tracks)\n",
    "japanese_top1000 = create_track_df(japanese_top_tracks)\n",
    "jidol_top1000 = create_track_df(jidol_top_tracks)\n",
    "jpop_top1000 = create_track_df(jpop_top_tracks)\n",
    "jdance_top1000 = create_track_df(jdance_top_tracks)"
   ]
  },
  {
   "cell_type": "code",
   "execution_count": 192,
   "id": "a387ff81-c6d3-4287-ad0f-e96806314f1b",
   "metadata": {},
   "outputs": [],
   "source": [
    "kpop_top1000.to_csv('kpop_top1000_tracks.csv')\n",
    "chinese_top1000.to_csv('chinese_top1000_tracks.csv')\n",
    "korean_top1000.to_csv('korean_top1000_tracks.csv')\n",
    "japanese_top1000.to_csv('japanese_top1000_tracks.csv')\n",
    "jidol_top1000.to_csv('jidol_top1000_tracks.csv')\n",
    "jpop_top1000.to_csv('jpop_top1000_tracks.csv')\n",
    "jdance_top1000.to_csv('jdance_top1000_tracks.csv')"
   ]
  },
  {
   "cell_type": "code",
   "execution_count": 230,
   "id": "24cb799e-089b-4333-8108-9b42ed68343d",
   "metadata": {},
   "outputs": [],
   "source": [
    "kpop_top1000['query_genre'] = 'k-pop'\n",
    "chinese_top1000['query_genre'] = 'chinese'\n",
    "korean_top1000['query_genre'] = 'korean'\n",
    "japanese_top1000['query_genre'] = 'japanese'\n",
    "jidol_top1000['query_genre'] = 'j-idol'\n",
    "jpop_top1000['query_genre'] = 'j-pop'\n",
    "jdance_top1000['query_genre'] = 'j-dance'"
   ]
  },
  {
   "cell_type": "code",
   "execution_count": 231,
   "id": "04b9e43e-022b-4ae8-accc-468c3a8b3f92",
   "metadata": {},
   "outputs": [],
   "source": [
    "east_asia_toptracks = [kpop_top1000,chinese_top1000,korean_top1000,japanese_top1000,jidol_top1000,jpop_top1000,jdance_top1000]\n",
    "east_asia_toptracksdf = pd.concat(east_asia_toptracks).sort_values(by='popularity', ascending=False).reset_index().drop('index',axis=1)\n",
    "east_asia_toptracksdf.to_csv('east_asia_top_tracks.csv')"
   ]
  },
  {
   "cell_type": "code",
   "execution_count": null,
   "id": "6f6a31c8-d4b1-4d5a-821b-dc8cc824ea7d",
   "metadata": {},
   "outputs": [],
   "source": []
  }
 ],
 "metadata": {
  "kernelspec": {
   "display_name": "Python 3 (ipykernel)",
   "language": "python",
   "name": "python3"
  },
  "language_info": {
   "codemirror_mode": {
    "name": "ipython",
    "version": 3
   },
   "file_extension": ".py",
   "mimetype": "text/x-python",
   "name": "python",
   "nbconvert_exporter": "python",
   "pygments_lexer": "ipython3",
   "version": "3.9.13"
  }
 },
 "nbformat": 4,
 "nbformat_minor": 5
}
