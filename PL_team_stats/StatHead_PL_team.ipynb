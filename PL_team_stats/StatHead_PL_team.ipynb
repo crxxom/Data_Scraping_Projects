{
 "cells": [
  {
   "cell_type": "markdown",
   "id": "2558e39e",
   "metadata": {},
   "source": [
    "# StatHead PL team statistics\n",
    "\n",
    "Gone wrong, got blocked for sending too many requests, apparently you will get jailed if you send more than 20 requests under a minute."
   ]
  },
  {
   "cell_type": "code",
   "execution_count": null,
   "id": "9b1a01c3",
   "metadata": {},
   "outputs": [],
   "source": [
    "from bs4 import BeautifulSoup\n",
    "import requests\n",
    "import pandas as pd\n",
    "url = 'https://fbref.com/en/comps/9/stats/Premier-League-Stats'\n",
    "page = requests.get(url)\n",
    "doc = BeautifulSoup(page.content, 'html.parser')\n",
    "teams_name_22_23 = []\n",
    "teams_stat_22_23 = {}\n",
    "teams = doc.find('table').tbody.find_all('tr')\n",
    "for team in teams:\n",
    "    teams_name_22_23.append(team.a.string)\n",
    "    for atr in team.find_all('td'):\n",
    "        attribute = str(atr).split('=')[-1].split('\"')[1]\n",
    "        value = str(atr).split('=')[-1].split('\"')[-1].split('<')[0][1:]\n",
    "        if teams_stat_22_23.get(attribute) == None:\n",
    "            teams_stat_22_23[attribute] = []\n",
    "            teams_stat_22_23[attribute].append(float(value.replace(',','')))\n",
    "        else:\n",
    "            teams_stat_22_23[attribute].append(float(value.replace(',','')))\n",
    "\n",
    "PL_2022_2023_teamstats = pd.DataFrame(teams_stat_2223, index=teams_name_22_23)"
   ]
  },
  {
   "cell_type": "code",
   "execution_count": null,
   "id": "30958f01",
   "metadata": {},
   "outputs": [],
   "source": [
    "from bs4 import BeautifulSoup\n",
    "import requests\n",
    "import pandas as pd\n",
    "season = ['2021-2022', '2020-2021', '2019-2020', '2018-2019', '2017-2018', \n",
    "          '2016-2017', '2015-2016', '2014-2015', '2013-2014', '2012-2013',\n",
    "          '2011-2012', '2010-2011'] \n",
    "#           '2009-2010', '2008-2009', '2007-2008',\n",
    "#           '2006-2007', '2005-2006', '2004-2005', '2003-2004', '2002-2003',\n",
    "#           '2001-2002', '2000-2001', '1999-2000', '1998-1999', '1997-1998',\n",
    "#           '1996-1997', '1995-1996', '1994-1995', '1993-1994', '1992-1993']\n",
    "\n",
    "         \n",
    "for cur in season:\n",
    "    url = f'https://fbref.com/en/comps/9/{cur}/stats/{cur}-Premier-League-Stats'\n",
    "    page = requests.get(url)\n",
    "    doc = BeautifulSoup(page.content, 'html.parser')\n",
    "    teams_name_ = []\n",
    "    teams_stat_ = {}\n",
    "    teams = doc.find('table').tbody.find_all('tr')\n",
    "    for team in teams:\n",
    "        teams_name_.append(team.a.string)\n",
    "        for atr in team.find_all('td'):\n",
    "            attribute = str(atr).split('=')[-1].split('\"')[1]\n",
    "            value = str(atr).split('=')[-1].split('\"')[-1].split('<')[0][1:]\n",
    "            if teams_stat_.get(attribute) == None:\n",
    "                teams_stat_[attribute] = []\n",
    "                if value == '':\n",
    "                    teams_stat_[attribute].append(None)\n",
    "                else:\n",
    "                    teams_stat_[attribute].append(float(value.replace(',','')))\n",
    "            else:\n",
    "                if value == '':\n",
    "                    teams_stat_[attribute].append(None)\n",
    "                else:\n",
    "                    teams_stat_[attribute].append(float(value.replace(',','')))\n",
    "\n",
    "    cur_season_df = pd.DataFrame(teams_stat_, index=teams_name_)\n",
    "    cur_season_df.to_csv(f\"PL_team_stats_{cur[:4]}.csv\")"
   ]
  }
 ],
 "metadata": {
  "kernelspec": {
   "display_name": "Python 3 (ipykernel)",
   "language": "python",
   "name": "python3"
  },
  "language_info": {
   "codemirror_mode": {
    "name": "ipython",
    "version": 3
   },
   "file_extension": ".py",
   "mimetype": "text/x-python",
   "name": "python",
   "nbconvert_exporter": "python",
   "pygments_lexer": "ipython3",
   "version": "3.9.13"
  }
 },
 "nbformat": 4,
 "nbformat_minor": 5
}
