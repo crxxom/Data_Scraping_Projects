{
 "cells": [
  {
   "cell_type": "code",
   "execution_count": 1,
   "id": "e0f17e60",
   "metadata": {},
   "outputs": [],
   "source": [
    "import requests\n",
    "from bs4 import BeautifulSoup\n",
    "\n",
    "link = 'https://sweb.hku.hk/ccacad/ccc_appl/enrol_stat.html'\n",
    "response = requests.get(link).text\n",
    "doc = BeautifulSoup(response, 'html.parser')\n",
    "\n",
    "rows = doc.find_all('tr')\n",
    "courses = []\n",
    "for row in rows:\n",
    "    cols = row.find_all('td', {'bgcolor': '#FFFED1'})\n",
    "    if cols:\n",
    "        course = {\n",
    "            'course_code': cols[0].font.text,\n",
    "            'course_name': cols[1].font.text,\n",
    "            'subclass' : cols[2].font.text,\n",
    "            'quota': cols[3].font.text,\n",
    "            'vacancies': cols[4].font.text,\n",
    "            'waiting_applicants': cols[5].font.text,\n",
    "        }\n",
    "        \n",
    "        courses.append(course)"
   ]
  },
  {
   "cell_type": "code",
   "execution_count": 2,
   "id": "3bc8c75f",
   "metadata": {},
   "outputs": [],
   "source": [
    "import pandas as pd\n",
    "\n",
    "cc_df = pd.DataFrame(courses)\n",
    "\n",
    "cc_df['semester'] = 'First Semester'\n",
    "\n",
    "cc_df.loc[98:, 'semester'] = 'Second Semester'\n",
    "\n",
    "cc_df['AoI'] = cc_df['course_code'].str[2:4]\n",
    "\n",
    "cc_df['quota'] = pd.to_numeric(cc_df['quota'])\n",
    "cc_df['vacancies'] = pd.to_numeric(cc_df['vacancies'])\n",
    "cc_df['waiting_applicants'] = pd.to_numeric(cc_df['waiting_applicants'])\n",
    "\n",
    "cc_df['seats'] = cc_df['vacancies'] - cc_df['waiting_applicants']\n",
    "\n",
    "cc_df.to_csv('2023Aug_Year2_CCEnrollmentStatistics.csv')"
   ]
  },
  {
   "cell_type": "code",
   "execution_count": 32,
   "id": "49c96503",
   "metadata": {},
   "outputs": [
    {
     "data": {
      "text/html": [
       "<div>\n",
       "<style scoped>\n",
       "    .dataframe tbody tr th:only-of-type {\n",
       "        vertical-align: middle;\n",
       "    }\n",
       "\n",
       "    .dataframe tbody tr th {\n",
       "        vertical-align: top;\n",
       "    }\n",
       "\n",
       "    .dataframe thead th {\n",
       "        text-align: right;\n",
       "    }\n",
       "</style>\n",
       "<table border=\"1\" class=\"dataframe\">\n",
       "  <thead>\n",
       "    <tr style=\"text-align: right;\">\n",
       "      <th></th>\n",
       "      <th>waiting_applicants</th>\n",
       "    </tr>\n",
       "    <tr>\n",
       "      <th>AoI</th>\n",
       "      <th></th>\n",
       "    </tr>\n",
       "  </thead>\n",
       "  <tbody>\n",
       "    <tr>\n",
       "      <th>CH</th>\n",
       "      <td>287</td>\n",
       "    </tr>\n",
       "    <tr>\n",
       "      <th>GL</th>\n",
       "      <td>450</td>\n",
       "    </tr>\n",
       "    <tr>\n",
       "      <th>HU</th>\n",
       "      <td>269</td>\n",
       "    </tr>\n",
       "    <tr>\n",
       "      <th>ST</th>\n",
       "      <td>266</td>\n",
       "    </tr>\n",
       "  </tbody>\n",
       "</table>\n",
       "</div>"
      ],
      "text/plain": [
       "     waiting_applicants\n",
       "AoI                    \n",
       "CH                  287\n",
       "GL                  450\n",
       "HU                  269\n",
       "ST                  266"
      ]
     },
     "execution_count": 32,
     "metadata": {},
     "output_type": "execute_result"
    }
   ],
   "source": [
    "cc_df[['waiting_applicants','AoI']].groupby('AoI').sum()"
   ]
  },
  {
   "cell_type": "code",
   "execution_count": 40,
   "id": "72ae5d03",
   "metadata": {},
   "outputs": [
    {
     "data": {
      "text/html": [
       "<div>\n",
       "<style scoped>\n",
       "    .dataframe tbody tr th:only-of-type {\n",
       "        vertical-align: middle;\n",
       "    }\n",
       "\n",
       "    .dataframe tbody tr th {\n",
       "        vertical-align: top;\n",
       "    }\n",
       "\n",
       "    .dataframe thead th {\n",
       "        text-align: right;\n",
       "    }\n",
       "</style>\n",
       "<table border=\"1\" class=\"dataframe\">\n",
       "  <thead>\n",
       "    <tr style=\"text-align: right;\">\n",
       "      <th></th>\n",
       "      <th>course_code</th>\n",
       "      <th>course_name</th>\n",
       "      <th>subclass</th>\n",
       "      <th>quota</th>\n",
       "      <th>vacancies</th>\n",
       "      <th>waiting_applicants</th>\n",
       "      <th>semester</th>\n",
       "      <th>AoI</th>\n",
       "      <th>seats</th>\n",
       "    </tr>\n",
       "  </thead>\n",
       "  <tbody>\n",
       "    <tr>\n",
       "      <th>85</th>\n",
       "      <td>CCCH9007</td>\n",
       "      <td>China in the Global Economy (SCCE)</td>\n",
       "      <td>A</td>\n",
       "      <td>64</td>\n",
       "      <td>64</td>\n",
       "      <td>29</td>\n",
       "      <td>First Semester</td>\n",
       "      <td>CH</td>\n",
       "      <td>35</td>\n",
       "    </tr>\n",
       "    <tr>\n",
       "      <th>187</th>\n",
       "      <td>CCCH9007</td>\n",
       "      <td>China in the Global Economy (SCCE)</td>\n",
       "      <td>B</td>\n",
       "      <td>64</td>\n",
       "      <td>64</td>\n",
       "      <td>17</td>\n",
       "      <td>Second Semester</td>\n",
       "      <td>CH</td>\n",
       "      <td>47</td>\n",
       "    </tr>\n",
       "  </tbody>\n",
       "</table>\n",
       "</div>"
      ],
      "text/plain": [
       "    course_code                         course_name subclass  quota  \\\n",
       "85     CCCH9007  China in the Global Economy (SCCE)        A     64   \n",
       "187    CCCH9007  China in the Global Economy (SCCE)        B     64   \n",
       "\n",
       "     vacancies  waiting_applicants         semester AoI  seats  \n",
       "85          64                  29   First Semester  CH     35  \n",
       "187         64                  17  Second Semester  CH     47  "
      ]
     },
     "execution_count": 40,
     "metadata": {},
     "output_type": "execute_result"
    }
   ],
   "source": [
    "# Course Searcher\n",
    "\n",
    "cc_df.query(\"course_code == 'CCCH9007'\")"
   ]
  },
  {
   "cell_type": "code",
   "execution_count": null,
   "id": "630fc76d",
   "metadata": {},
   "outputs": [],
   "source": []
  }
 ],
 "metadata": {
  "kernelspec": {
   "display_name": "Python 3 (ipykernel)",
   "language": "python",
   "name": "python3"
  },
  "language_info": {
   "codemirror_mode": {
    "name": "ipython",
    "version": 3
   },
   "file_extension": ".py",
   "mimetype": "text/x-python",
   "name": "python",
   "nbconvert_exporter": "python",
   "pygments_lexer": "ipython3",
   "version": "3.9.13"
  }
 },
 "nbformat": 4,
 "nbformat_minor": 5
}
