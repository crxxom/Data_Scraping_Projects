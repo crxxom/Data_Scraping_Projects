{
 "cells": [
  {
   "cell_type": "markdown",
   "id": "3d51b6f6-0108-4c52-939d-8b22632a0df2",
   "metadata": {},
   "source": [
    "# Football Transfer News NLP 90MIN"
   ]
  },
  {
   "cell_type": "markdown",
   "id": "20fc4bc8-7986-485d-a2e9-108d0743b74a",
   "metadata": {},
   "source": [
    "Data scraped from https://www.90min.com/categories/transfer\n",
    "\n",
    "Time taken to scrape 250 pages of articles ~ 1 hour and 15 minutes"
   ]
  },
  {
   "cell_type": "code",
   "execution_count": 66,
   "id": "d1cbd6f4-6edd-4d31-afb4-d69375562bdd",
   "metadata": {},
   "outputs": [],
   "source": [
    "def get_title(article):\n",
    "    temp_list = article.find_all('h3')\n",
    "    temp_list += article.find_all('h2')\n",
    "    try:\n",
    "        title = temp_list[0].text\n",
    "    except:\n",
    "        return None\n",
    "    \n",
    "    return title\n",
    "\n",
    "def get_published_date(article):\n",
    "    try:\n",
    "        date = article.find('time').text\n",
    "    except:\n",
    "        return None\n",
    "    return date\n",
    "\n",
    "def get_article_link(article):\n",
    "    try:\n",
    "        link = article.find_all('a')[0].get('href', None)\n",
    "    except:\n",
    "        return None\n",
    "    return link\n",
    "\n",
    "\n",
    "def get_article_content(link):\n",
    "    url = link\n",
    "    result = requests.get(url).text\n",
    "    article_doc = BeautifulSoup(result, 'html.parser')\n",
    "    try:\n",
    "        paragraphs = article_doc.find('div', {'class': 'wrapper_wfxu5h'}).find_all('p')\n",
    "    except:\n",
    "        return None\n",
    "    container = []\n",
    "\n",
    "    for paragraph in paragraphs[:-2]:\n",
    "        container.append(paragraph.text)\n",
    "\n",
    "    return \" \".join(container)"
   ]
  },
  {
   "cell_type": "code",
   "execution_count": 67,
   "id": "fb3c9a6e-6961-4c80-9ab2-76153e9f44bf",
   "metadata": {},
   "outputs": [],
   "source": [
    "def transferNews90minPageScraping(page_range):\n",
    "\n",
    "    article_objects = []\n",
    "    for page in tqdm.tqdm(page_range , total = len(page_range)):\n",
    "        url = f'https://www.90min.com/categories/transfer?mm-experiments=finite-vs-recirculation%7Ctest&page={page}'\n",
    "        result = requests.get(url).text\n",
    "        doc = BeautifulSoup(result, 'html.parser')\n",
    "        articles = doc.find_all('article')\n",
    "        \n",
    "        for article in articles:\n",
    "            title = get_title(article)\n",
    "            date = get_published_date(article)\n",
    "            article_link = get_article_link(article)\n",
    "            content = get_article_content(article_link)\n",
    "\n",
    "            article_object = {\n",
    "                'Title': title,\n",
    "                'Date': date,\n",
    "                'Link': article_link,\n",
    "                'Content': content,\n",
    "            }\n",
    "\n",
    "            article_objects.append(article_object)\n",
    "\n",
    "    return article_objects"
   ]
  },
  {
   "cell_type": "code",
   "execution_count": 68,
   "id": "d700806c-6cfe-48fc-ace5-b56bb435baa2",
   "metadata": {},
   "outputs": [
    {
     "name": "stderr",
     "output_type": "stream",
     "text": [
      "100%|██████████| 100/100 [26:31<00:00, 15.92s/it]\n"
     ]
    }
   ],
   "source": [
    "from bs4 import BeautifulSoup\n",
    "import requests\n",
    "import tqdm\n",
    "import pandas as pd\n",
    "\n",
    "# page1_10 = transferNews90minPageScraping(range(1,11))\n",
    "\n",
    "# page10_50 = transferNews90minPageScraping(range(10,51)) \n",
    "\n",
    "# page51_150 = transferNews90minPageScraping(range(51,151))\n",
    "\n",
    "page151_250 = transferNews90minPageScraping(range(151,251))"
   ]
  },
  {
   "cell_type": "code",
   "execution_count": 69,
   "id": "cbe30ca6-f911-415f-806e-3d39236b6e93",
   "metadata": {},
   "outputs": [],
   "source": [
    "import pandas as pd\n",
    "\n",
    "pd.DataFrame(page151_250).to_csv('90minTransferNews_page151_250.csv',index=False)"
   ]
  },
  {
   "cell_type": "code",
   "execution_count": 70,
   "id": "76f05e88-5bdb-4585-bbcb-58ce1200e170",
   "metadata": {},
   "outputs": [],
   "source": [
    "df_1 = pd.DataFrame(page1_10)\n",
    "df_2 = pd.DataFrame(page10_50).iloc[27:]\n",
    "df_3 = pd.DataFrame(page51_150)\n",
    "df_4 = pd.DataFrame(page151_250)"
   ]
  },
  {
   "cell_type": "code",
   "execution_count": 75,
   "id": "6d64196e-5b96-41f0-af2c-dcd360717f7e",
   "metadata": {},
   "outputs": [],
   "source": [
    "concat_df = pd.concat([df_1,df_2,df_3,df_4])\n",
    "concat_df.to_csv(\"90minTransferNewsNLP.csv\",index=False)"
   ]
  },
  {
   "cell_type": "code",
   "execution_count": 89,
   "id": "9bfdc819-20fc-40b3-923c-b006051cd0e5",
   "metadata": {},
   "outputs": [],
   "source": [
    "concat_df = concat_df.reset_index().drop(['level_0','index'],axis=1)"
   ]
  },
  {
   "cell_type": "code",
   "execution_count": 96,
   "id": "5a61f819-0d65-4766-92b0-85230e28b6cb",
   "metadata": {},
   "outputs": [],
   "source": [
    "concat_df.iloc[0,1] = 'Aug 15, 2023'"
   ]
  },
  {
   "cell_type": "code",
   "execution_count": 98,
   "id": "c536d006-c8e9-4251-81b5-6accbc60bd46",
   "metadata": {},
   "outputs": [],
   "source": [
    "concat_df.to_csv(\"90minTransferNewsNLP.csv\", index=False)"
   ]
  }
 ],
 "metadata": {
  "kernelspec": {
   "display_name": "Python 3 (ipykernel)",
   "language": "python",
   "name": "python3"
  },
  "language_info": {
   "codemirror_mode": {
    "name": "ipython",
    "version": 3
   },
   "file_extension": ".py",
   "mimetype": "text/x-python",
   "name": "python",
   "nbconvert_exporter": "python",
   "pygments_lexer": "ipython3",
   "version": "3.11.5"
  }
 },
 "nbformat": 4,
 "nbformat_minor": 5
}
